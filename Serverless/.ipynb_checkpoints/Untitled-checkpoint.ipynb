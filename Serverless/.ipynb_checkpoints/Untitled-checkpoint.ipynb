{
 "cells": [
  {
   "cell_type": "code",
   "execution_count": 15,
   "metadata": {},
   "outputs": [],
   "source": [
    "import tensorflow as tf\n",
    "from tensorflow import keras\n",
    "import numpy as np"
   ]
  },
  {
   "cell_type": "code",
   "execution_count": 2,
   "metadata": {},
   "outputs": [],
   "source": [
    "model = keras.models.load_model(\"dogs_cats_10_0.687.h5\")"
   ]
  },
  {
   "cell_type": "code",
   "execution_count": 3,
   "metadata": {},
   "outputs": [
    {
     "name": "stdout",
     "output_type": "stream",
     "text": [
      "INFO:tensorflow:Assets written to: C:\\Users\\DAMINI~1\\AppData\\Local\\Temp\\tmps1weealy\\assets\n"
     ]
    },
    {
     "name": "stderr",
     "output_type": "stream",
     "text": [
      "WARNING:absl:Buffer deduplication procedure will be skipped when flatbuffer library is not properly loaded\n"
     ]
    }
   ],
   "source": [
    "converter = tf.lite.TFLiteConverter.from_keras_model(model)\n",
    "\n",
    "tflite_model = converter.convert()\n",
    "\n",
    "with open('dogscats-model.tflite', 'wb') as f_out:\n",
    "    f_out.write(tflite_model)"
   ]
  },
  {
   "cell_type": "code",
   "execution_count": 5,
   "metadata": {},
   "outputs": [],
   "source": [
    "# import tflite_runtime.interpreter as tflite\n",
    "# from keras_image_helper import create_preprocessor"
   ]
  },
  {
   "cell_type": "code",
   "execution_count": 6,
   "metadata": {},
   "outputs": [],
   "source": [
    "import tensorflow.lite as tflite"
   ]
  },
  {
   "cell_type": "code",
   "execution_count": 7,
   "metadata": {},
   "outputs": [],
   "source": [
    "interpreter = tflite.Interpreter(model_path=\"dogscats-model.tflite\")\n",
    "interpreter.allocate_tensors()"
   ]
  },
  {
   "cell_type": "code",
   "execution_count": 8,
   "metadata": {},
   "outputs": [],
   "source": [
    "input_index = interpreter.get_input_details()[0]['index']\n",
    "output_index = interpreter.get_output_details()[0]['index']"
   ]
  },
  {
   "cell_type": "code",
   "execution_count": 9,
   "metadata": {},
   "outputs": [
    {
     "data": {
      "text/plain": [
       "13"
      ]
     },
     "execution_count": 9,
     "metadata": {},
     "output_type": "execute_result"
    }
   ],
   "source": [
    "output_index"
   ]
  },
  {
   "cell_type": "code",
   "execution_count": 10,
   "metadata": {},
   "outputs": [],
   "source": [
    "from io import BytesIO\n",
    "from urllib import request\n",
    "\n",
    "from PIL import Image\n",
    "\n",
    "def download_image(url):\n",
    "    with request.urlopen(url) as resp:\n",
    "        buffer = resp.read()\n",
    "    stream = BytesIO(buffer)\n",
    "    img = Image.open(stream)\n",
    "    return img\n",
    "\n",
    "\n",
    "def prepare_image(img, target_size):\n",
    "    if img.mode != 'RGB':\n",
    "        img = img.convert('RGB')\n",
    "    img = img.resize(target_size, Image.NEAREST)\n",
    "    return img"
   ]
  },
  {
   "cell_type": "code",
   "execution_count": 11,
   "metadata": {},
   "outputs": [],
   "source": [
    "img = download_image(\"https://upload.wikimedia.org/wikipedia/commons/9/9a/Pug_600.jpg\")"
   ]
  },
  {
   "cell_type": "code",
   "execution_count": 12,
   "metadata": {},
   "outputs": [],
   "source": [
    "img = prepare_image(img = img, target_size=(150, 150))"
   ]
  },
  {
   "cell_type": "code",
   "execution_count": 13,
   "metadata": {},
   "outputs": [],
   "source": [
    "def preprocess_input(x):\n",
    "    x /= 255\n",
    "    return x"
   ]
  },
  {
   "cell_type": "code",
   "execution_count": 16,
   "metadata": {},
   "outputs": [
    {
     "name": "stdout",
     "output_type": "stream",
     "text": [
      "[[[[0.7058824  0.77254903 0.7490196 ]\n",
      "   [0.69411767 0.7607843  0.7294118 ]\n",
      "   [0.6313726  0.69803923 0.6666667 ]\n",
      "   ...\n",
      "   [0.7647059  0.8509804  0.8392157 ]\n",
      "   [0.68235296 0.74509805 0.74509805]\n",
      "   [0.6745098  0.76862746 0.7764706 ]]\n",
      "\n",
      "  [[0.5254902  0.5921569  0.5686275 ]\n",
      "   [0.7372549  0.8039216  0.78039217]\n",
      "   [0.60784316 0.6745098  0.6431373 ]\n",
      "   ...\n",
      "   [0.7921569  0.8666667  0.85882354]\n",
      "   [0.6313726  0.7019608  0.6392157 ]\n",
      "   [0.7882353  0.8784314  0.85490197]]\n",
      "\n",
      "  [[0.6862745  0.7490196  0.7372549 ]\n",
      "   [0.61960787 0.6862745  0.6627451 ]\n",
      "   [0.64705884 0.7137255  0.68235296]\n",
      "   ...\n",
      "   [0.6        0.65882355 0.64705884]\n",
      "   [0.627451   0.69411767 0.654902  ]\n",
      "   [0.7058824  0.79607844 0.77254903]]\n",
      "\n",
      "  ...\n",
      "\n",
      "  [[0.5803922  0.61960787 0.58431375]\n",
      "   [0.49019608 0.5254902  0.5058824 ]\n",
      "   [0.5686275  0.6039216  0.5921569 ]\n",
      "   ...\n",
      "   [0.5803922  0.5921569  0.54901963]\n",
      "   [0.4745098  0.4862745  0.44313726]\n",
      "   [0.3019608  0.33333334 0.28235295]]\n",
      "\n",
      "  [[0.47058824 0.5137255  0.45882353]\n",
      "   [0.47058824 0.50980395 0.4745098 ]\n",
      "   [0.59607846 0.6313726  0.6117647 ]\n",
      "   ...\n",
      "   [0.7490196  0.7411765  0.68235296]\n",
      "   [0.1764706  0.18039216 0.11764706]\n",
      "   [0.39215687 0.41568628 0.36078432]]\n",
      "\n",
      "  [[0.5764706  0.5764706  0.5372549 ]\n",
      "   [0.74509805 0.72156864 0.6666667 ]\n",
      "   [0.49803922 0.53333336 0.5294118 ]\n",
      "   ...\n",
      "   [0.57254905 0.6        0.5686275 ]\n",
      "   [0.4        0.41960785 0.39215687]\n",
      "   [0.43529412 0.45490196 0.42745098]]]]\n"
     ]
    }
   ],
   "source": [
    "x = np.array(img, dtype='float32')\n",
    "X = np.array([x])\n",
    "\n",
    "X = preprocess_input(X)\n",
    "\n",
    "print(X)"
   ]
  },
  {
   "cell_type": "code",
   "execution_count": 17,
   "metadata": {},
   "outputs": [],
   "source": [
    "interpreter.set_tensor(input_index, X)\n",
    "interpreter.invoke()\n",
    "preds = interpreter.get_tensor(output_index)"
   ]
  },
  {
   "cell_type": "code",
   "execution_count": 18,
   "metadata": {},
   "outputs": [
    {
     "data": {
      "text/plain": [
       "{'dogs': 0.7704913}"
      ]
     },
     "execution_count": 18,
     "metadata": {},
     "output_type": "execute_result"
    }
   ],
   "source": [
    "classes = [\n",
    "    'dogs',\n",
    "    'cats'\n",
    "]\n",
    "\n",
    "dict(zip(classes, preds[0]))"
   ]
  },
  {
   "cell_type": "code",
   "execution_count": null,
   "metadata": {},
   "outputs": [],
   "source": []
  }
 ],
 "metadata": {
  "kernelspec": {
   "display_name": "Python 3",
   "language": "python",
   "name": "python3"
  },
  "language_info": {
   "codemirror_mode": {
    "name": "ipython",
    "version": 3
   },
   "file_extension": ".py",
   "mimetype": "text/x-python",
   "name": "python",
   "nbconvert_exporter": "python",
   "pygments_lexer": "ipython3",
   "version": "3.8.5"
  }
 },
 "nbformat": 4,
 "nbformat_minor": 4
}
