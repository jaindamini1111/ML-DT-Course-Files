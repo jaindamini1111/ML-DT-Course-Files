{
 "cells": [
  {
   "cell_type": "code",
   "execution_count": 15,
   "metadata": {},
   "outputs": [],
   "source": [
    "import shutil\n",
    "import os\n",
    "import numpy as np"
   ]
  },
  {
   "cell_type": "code",
   "execution_count": 8,
   "metadata": {},
   "outputs": [],
   "source": [
    "import tensorflow as tf\n",
    "from tensorflow import keras\n",
    "from tensorflow.keras.preprocessing.image import ImageDataGenerator"
   ]
  },
  {
   "cell_type": "code",
   "execution_count": 3,
   "metadata": {},
   "outputs": [],
   "source": [
    "source_dir = r\"C:\\Users\\Damini Jain\\ML-DT-Course-Files\\Deep Learning\\train\\train\"\n",
    "   \n",
    "file_names = os.listdir(source_dir)\n",
    "\n",
    "cat_count=0\n",
    "dog_count=0\n",
    "\n",
    "for file_name in file_names:\n",
    "    if \"cat\" in file_name:\n",
    "        cat_count+=1\n",
    "        if (cat_count <= 10000):\n",
    "            target_dir = r\"C:\\Users\\Damini Jain\\ML-DT-Course-Files\\Deep Learning\\traindata\\cats\"\n",
    "            shutil.move(os.path.join(source_dir, file_name), target_dir)\n",
    "        else:\n",
    "            target_dir = r\"C:\\Users\\Damini Jain\\ML-DT-Course-Files\\Deep Learning\\validationdata\\cats\"\n",
    "            shutil.move(os.path.join(source_dir, file_name), target_dir)\n",
    "\n",
    "    elif \"dog\" in file_name:\n",
    "        dog_count+=1\n",
    "        if (dog_count <= 10000):\n",
    "            target_dir = r\"C:\\Users\\Damini Jain\\ML-DT-Course-Files\\Deep Learning\\traindata\\dogs\"\n",
    "            shutil.move(os.path.join(source_dir, file_name), target_dir)\n",
    "        else:\n",
    "            target_dir = r\"C:\\Users\\Damini Jain\\ML-DT-Course-Files\\Deep Learning\\validationdata\\dogs\"\n",
    "            shutil.move(os.path.join(source_dir, file_name), target_dir)"
   ]
  },
  {
   "cell_type": "code",
   "execution_count": 5,
   "metadata": {},
   "outputs": [],
   "source": [
    "model = tf.keras.models.Sequential([\n",
    "        tf.keras.layers.Conv2D(32, (3,3), activation=\"relu\", input_shape=(150,150,3)),\n",
    "        tf.keras.layers.MaxPooling2D(2, 2),\n",
    "        tf.keras.layers.Flatten(),\n",
    "        tf.keras.layers.Dense(64, activation=\"relu\"),\n",
    "        tf.keras.layers.Dense(1, activation= \"sigmoid\")\n",
    "])"
   ]
  },
  {
   "cell_type": "code",
   "execution_count": 6,
   "metadata": {},
   "outputs": [
    {
     "name": "stdout",
     "output_type": "stream",
     "text": [
      "Model: \"sequential\"\n",
      "_________________________________________________________________\n",
      " Layer (type)                Output Shape              Param #   \n",
      "=================================================================\n",
      " conv2d (Conv2D)             (None, 148, 148, 32)      896       \n",
      "                                                                 \n",
      " max_pooling2d (MaxPooling2D  (None, 74, 74, 32)       0         \n",
      " )                                                               \n",
      "                                                                 \n",
      " flatten (Flatten)           (None, 175232)            0         \n",
      "                                                                 \n",
      " dense (Dense)               (None, 64)                11214912  \n",
      "                                                                 \n",
      " dense_1 (Dense)             (None, 1)                 65        \n",
      "                                                                 \n",
      "=================================================================\n",
      "Total params: 11,215,873\n",
      "Trainable params: 11,215,873\n",
      "Non-trainable params: 0\n",
      "_________________________________________________________________\n"
     ]
    }
   ],
   "source": [
    "model.summary()"
   ]
  },
  {
   "cell_type": "code",
   "execution_count": 7,
   "metadata": {},
   "outputs": [],
   "source": [
    "optimizer = tf.keras.optimizers.SGD(learning_rate=0.002, momentum=0.8)\n",
    "\n",
    "model.compile(loss=\"binary_crossentropy\", optimizer=optimizer, metrics=[\"accuracy\"])"
   ]
  },
  {
   "cell_type": "code",
   "execution_count": 9,
   "metadata": {},
   "outputs": [
    {
     "name": "stdout",
     "output_type": "stream",
     "text": [
      "Found 20000 images belonging to 2 classes.\n"
     ]
    }
   ],
   "source": [
    "train_gen = ImageDataGenerator(rescale=1./255)\n",
    "\n",
    "train_ds = train_gen.flow_from_directory(r\"C:\\Users\\Damini Jain\\ML-DT-Course-Files\\Deep Learning\\traindata\",\n",
    "                    target_size=(150, 150), batch_size=20, class_mode = \"binary\")"
   ]
  },
  {
   "cell_type": "code",
   "execution_count": 12,
   "metadata": {},
   "outputs": [
    {
     "data": {
      "text/plain": [
       "({'cats': 0, 'dogs': 1}, 'binary')"
      ]
     },
     "execution_count": 12,
     "metadata": {},
     "output_type": "execute_result"
    }
   ],
   "source": [
    "train_ds.class_indices, train_ds.class_mode"
   ]
  },
  {
   "cell_type": "code",
   "execution_count": 11,
   "metadata": {},
   "outputs": [
    {
     "name": "stdout",
     "output_type": "stream",
     "text": [
      "Found 5000 images belonging to 2 classes.\n"
     ]
    }
   ],
   "source": [
    "valid_gen = ImageDataGenerator(rescale=1./255)\n",
    "\n",
    "valid_ds = valid_gen.flow_from_directory(r\"C:\\Users\\Damini Jain\\ML-DT-Course-Files\\Deep Learning\\validationdata\",\n",
    "                    target_size=(150, 150), batch_size=20, class_mode = \"binary\")"
   ]
  },
  {
   "cell_type": "code",
   "execution_count": 18,
   "metadata": {},
   "outputs": [
    {
     "name": "stdout",
     "output_type": "stream",
     "text": [
      "Epoch 1/10\n",
      "100/100 [==============================] - 34s 336ms/step - loss: 0.6246 - accuracy: 0.6535 - val_loss: 0.6066 - val_accuracy: 0.6700\n",
      "Epoch 2/10\n",
      "100/100 [==============================] - 34s 341ms/step - loss: 0.6128 - accuracy: 0.6395 - val_loss: 0.6015 - val_accuracy: 0.6670\n",
      "Epoch 3/10\n",
      "100/100 [==============================] - 33s 330ms/step - loss: 0.6079 - accuracy: 0.6645 - val_loss: 0.6162 - val_accuracy: 0.6480\n",
      "Epoch 4/10\n",
      "100/100 [==============================] - 33s 331ms/step - loss: 0.6066 - accuracy: 0.6660 - val_loss: 0.5755 - val_accuracy: 0.6830\n",
      "Epoch 5/10\n",
      "100/100 [==============================] - 33s 331ms/step - loss: 0.6043 - accuracy: 0.6630 - val_loss: 0.6461 - val_accuracy: 0.6210\n",
      "Epoch 6/10\n",
      "100/100 [==============================] - 34s 342ms/step - loss: 0.5841 - accuracy: 0.6860 - val_loss: 0.6029 - val_accuracy: 0.6670\n",
      "Epoch 7/10\n",
      "100/100 [==============================] - 35s 346ms/step - loss: 0.5979 - accuracy: 0.6660 - val_loss: 0.6050 - val_accuracy: 0.6660\n",
      "Epoch 8/10\n",
      "100/100 [==============================] - 39s 390ms/step - loss: 0.6030 - accuracy: 0.6695 - val_loss: 0.5864 - val_accuracy: 0.6970\n",
      "Epoch 9/10\n",
      "100/100 [==============================] - 41s 406ms/step - loss: 0.5782 - accuracy: 0.6885 - val_loss: 0.6015 - val_accuracy: 0.6730\n",
      "Epoch 10/10\n",
      "100/100 [==============================] - 43s 426ms/step - loss: 0.5725 - accuracy: 0.6960 - val_loss: 0.6063 - val_accuracy: 0.6620\n"
     ]
    }
   ],
   "source": [
    "history = model.fit(train_ds, steps_per_epoch=100, epochs=10, validation_data=valid_ds, validation_steps=50)"
   ]
  },
  {
   "cell_type": "code",
   "execution_count": 20,
   "metadata": {},
   "outputs": [
    {
     "data": {
      "text/plain": [
       "0.6660000085830688"
      ]
     },
     "execution_count": 20,
     "metadata": {},
     "output_type": "execute_result"
    }
   ],
   "source": [
    "np.median(history.history[\"accuracy\"])"
   ]
  },
  {
   "cell_type": "code",
   "execution_count": 21,
   "metadata": {},
   "outputs": [
    {
     "data": {
      "text/plain": [
       "0.01543652328865811"
      ]
     },
     "execution_count": 21,
     "metadata": {},
     "output_type": "execute_result"
    }
   ],
   "source": [
    "np.std(history.history[\"loss\"])"
   ]
  },
  {
   "cell_type": "code",
   "execution_count": 22,
   "metadata": {},
   "outputs": [],
   "source": [
    "train_gen = ImageDataGenerator(rescale=1./255, rotation_range=40, width_shift_range=0.2, height_shift_range=0.2, shear_range=0.2, zoom_range=0.2, horizontal_flip=True, fill_mode='nearest')"
   ]
  },
  {
   "cell_type": "code",
   "execution_count": 23,
   "metadata": {},
   "outputs": [
    {
     "name": "stdout",
     "output_type": "stream",
     "text": [
      "Found 20000 images belonging to 2 classes.\n"
     ]
    }
   ],
   "source": [
    "train_ds = train_gen.flow_from_directory(r\"C:\\Users\\Damini Jain\\ML-DT-Course-Files\\Deep Learning\\traindata\",\n",
    "                    target_size=(150, 150), batch_size=20)"
   ]
  },
  {
   "cell_type": "code",
   "execution_count": 24,
   "metadata": {},
   "outputs": [
    {
     "name": "stdout",
     "output_type": "stream",
     "text": [
      "Epoch 1/10\n",
      "100/100 [==============================] - 63s 628ms/step - loss: 0.7070 - accuracy: 0.5000 - val_loss: 0.6548 - val_accuracy: 0.7080\n",
      "Epoch 2/10\n",
      "100/100 [==============================] - 57s 568ms/step - loss: 0.6955 - accuracy: 0.5000 - val_loss: 0.6641 - val_accuracy: 0.6790\n",
      "Epoch 3/10\n",
      "100/100 [==============================] - 57s 565ms/step - loss: 0.6947 - accuracy: 0.5000 - val_loss: 0.6728 - val_accuracy: 0.6780\n",
      "Epoch 4/10\n",
      "100/100 [==============================] - 51s 511ms/step - loss: 0.6941 - accuracy: 0.5000 - val_loss: 0.6752 - val_accuracy: 0.6490\n",
      "Epoch 5/10\n",
      "100/100 [==============================] - 52s 525ms/step - loss: 0.6940 - accuracy: 0.5000 - val_loss: 0.6770 - val_accuracy: 0.6680\n",
      "Epoch 6/10\n",
      "100/100 [==============================] - 53s 525ms/step - loss: 0.6939 - accuracy: 0.5000 - val_loss: 0.6774 - val_accuracy: 0.6860\n",
      "Epoch 7/10\n",
      "100/100 [==============================] - 51s 511ms/step - loss: 0.6936 - accuracy: 0.5000 - val_loss: 0.6802 - val_accuracy: 0.6370\n",
      "Epoch 8/10\n",
      "100/100 [==============================] - 50s 502ms/step - loss: 0.6935 - accuracy: 0.5000 - val_loss: 0.6823 - val_accuracy: 0.6270\n",
      "Epoch 9/10\n",
      "100/100 [==============================] - 50s 499ms/step - loss: 0.6935 - accuracy: 0.5000 - val_loss: 0.6819 - val_accuracy: 0.6580\n",
      "Epoch 10/10\n",
      "100/100 [==============================] - 49s 493ms/step - loss: 0.6935 - accuracy: 0.5000 - val_loss: 0.6836 - val_accuracy: 0.6550\n"
     ]
    }
   ],
   "source": [
    "history = model.fit(train_ds, steps_per_epoch=100, epochs=10, validation_data=valid_ds, validation_steps=50)"
   ]
  },
  {
   "cell_type": "code",
   "execution_count": 25,
   "metadata": {},
   "outputs": [
    {
     "data": {
      "text/plain": [
       "0.6749330401420593"
      ]
     },
     "execution_count": 25,
     "metadata": {},
     "output_type": "execute_result"
    }
   ],
   "source": [
    "np.mean(history.history[\"val_loss\"])"
   ]
  },
  {
   "cell_type": "code",
   "execution_count": 26,
   "metadata": {},
   "outputs": [
    {
     "data": {
      "text/plain": [
       "0.6525999903678894"
      ]
     },
     "execution_count": 26,
     "metadata": {},
     "output_type": "execute_result"
    }
   ],
   "source": [
    "np.mean(history.history[\"val_accuracy\"][5:])"
   ]
  },
  {
   "cell_type": "code",
   "execution_count": null,
   "metadata": {},
   "outputs": [],
   "source": []
  }
 ],
 "metadata": {
  "kernelspec": {
   "display_name": "Python 3",
   "language": "python",
   "name": "python3"
  },
  "language_info": {
   "codemirror_mode": {
    "name": "ipython",
    "version": 3
   },
   "file_extension": ".py",
   "mimetype": "text/x-python",
   "name": "python",
   "nbconvert_exporter": "python",
   "pygments_lexer": "ipython3",
   "version": "3.8.5"
  }
 },
 "nbformat": 4,
 "nbformat_minor": 4
}
